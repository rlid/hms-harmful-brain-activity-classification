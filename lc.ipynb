{
 "cells": [
  {
   "cell_type": "code",
   "outputs": [],
   "source": [
    "s1 = 'barfoothefoobarman'\n",
    "words1 = [\"foo\",\"bar\"]\n",
    "\n",
    "s2 = 'wordgoodgoodgoodbestword'\n",
    "words2 = ['good','good','best', 'word']\n",
    "\n",
    "s3 = 'barfoofoobarthefoobarman'\n",
    "words3 = ['bar', 'foo', 'the']\n",
    "\n",
    "s4 = 'wordgoodgoodgoodbestword'\n",
    "words4 = ['word', 'good', 'best', 'good']\n",
    "\n",
    "s5 = 'lingmindraboofooowingdingbarrwingmonkeypoundcake'\n",
    "words5 = ['fooo', 'barr', 'wing', 'ding', 'wing']"
   ],
   "metadata": {
    "collapsed": false,
    "ExecuteTime": {
     "end_time": "2024-02-12T13:53:47.139648178Z",
     "start_time": "2024-02-12T13:53:47.128332191Z"
    }
   },
   "execution_count": 1
  },
  {
   "cell_type": "code",
   "outputs": [
    {
     "data": {
      "text/plain": "[]"
     },
     "execution_count": 129,
     "metadata": {},
     "output_type": "execute_result"
    }
   ],
   "source": [
    "from functools import reduce\n",
    "\n",
    "def f(s, words):\n",
    "    m = len(words)\n",
    "    n = len(words[0])\n",
    "    words_to_ids = {word: 2 ** i for i, word in enumerate(words)}\n",
    "    ids = [words_to_ids.get(s[(i * n):((i + 1) * n)], 0) for i in range(len(s) // n)]\n",
    "    \n",
    "    sig_permutation = 2 ** m - 1\n",
    "    \n",
    "    sigs = [reduce(lambda x, y: x ^ y, ids[i:(i + m)]) for i in range(len(ids) - m + 1)]\n",
    "    matched_sigs = [i * n for i, sig in enumerate(sigs) if sig == sig_permutation]\n",
    "    return matched_sigs\n",
    "\n",
    "f(s5, words5)\n",
    "        "
   ],
   "metadata": {
    "collapsed": false,
    "ExecuteTime": {
     "end_time": "2024-02-12T13:10:50.389478653Z",
     "start_time": "2024-02-12T13:10:50.386902820Z"
    }
   },
   "execution_count": 129
  },
  {
   "cell_type": "code",
   "outputs": [
    {
     "data": {
      "text/plain": "[]"
     },
     "execution_count": 133,
     "metadata": {},
     "output_type": "execute_result"
    }
   ],
   "source": [
    "def f(s, words):\n",
    "    m = len(words)\n",
    "    n = len(words[0])\n",
    "    sub_strs = [s[(i * n):((i + 1) * n)] for i in range(len(s) // n)]\n",
    "    \n",
    "    sigs = [sorted(sub_strs[i:(i + m)]) for i in range(len(sub_strs) - m + 1)]\n",
    "    \n",
    "    ids = []\n",
    "    sig_permutation = sorted(words)\n",
    "    for i, sig in enumerate(sigs):\n",
    "        if sig == sig_permutation:\n",
    "            ids.append(i * n)\n",
    "\n",
    "    return ids\n",
    "\n",
    "f(s5, words5)"
   ],
   "metadata": {
    "collapsed": false,
    "ExecuteTime": {
     "end_time": "2024-02-12T13:16:05.536032960Z",
     "start_time": "2024-02-12T13:16:05.528264090Z"
    }
   },
   "execution_count": 133
  },
  {
   "cell_type": "code",
   "outputs": [
    {
     "name": "stdout",
     "output_type": "stream",
     "text": [
      "['ling', 'mind', 'rabo', 'ofoo', 'owin', 'gdin', 'gbar', 'rwin', 'gmon', 'keyp', 'ound', 'cake']\n"
     ]
    },
    {
     "data": {
      "text/plain": "[]"
     },
     "execution_count": 2,
     "metadata": {},
     "output_type": "execute_result"
    }
   ],
   "source": [
    "def f(s, words):\n",
    "    m = len(words)\n",
    "    n = len(words[0])\n",
    "    sub_strs = [s[(i * n):((i + 1) * n)] for i in range(len(s) // n)]\n",
    "    print(sub_strs)\n",
    "    \n",
    "    sigs = [sorted(sub_strs[i:(i + m)]) for i in range(len(sub_strs) - m + 1)]\n",
    "    \n",
    "    ids = []\n",
    "    sig_permutation = sorted(words)\n",
    "    for i, sig in enumerate(sigs):\n",
    "        if sig == sig_permutation:\n",
    "            ids.append(i * n)\n",
    "\n",
    "    return ids\n",
    "\n",
    "f(s5, words5)"
   ],
   "metadata": {
    "collapsed": false,
    "ExecuteTime": {
     "end_time": "2024-02-12T13:54:07.284892314Z",
     "start_time": "2024-02-12T13:54:07.279058419Z"
    }
   },
   "execution_count": 2
  },
  {
   "cell_type": "code",
   "outputs": [
    {
     "data": {
      "text/plain": "7"
     },
     "execution_count": 78,
     "metadata": {},
     "output_type": "execute_result"
    }
   ],
   "source": [
    "0b111"
   ],
   "metadata": {
    "collapsed": false,
    "ExecuteTime": {
     "end_time": "2024-02-12T12:07:40.181653095Z",
     "start_time": "2024-02-12T12:07:40.141036035Z"
    }
   },
   "execution_count": 78
  },
  {
   "cell_type": "code",
   "outputs": [
    {
     "data": {
      "text/plain": "'0b111'"
     },
     "execution_count": 79,
     "metadata": {},
     "output_type": "execute_result"
    }
   ],
   "source": [
    "bin(2 ** 3 - 1)"
   ],
   "metadata": {
    "collapsed": false,
    "ExecuteTime": {
     "end_time": "2024-02-12T12:08:12.711479932Z",
     "start_time": "2024-02-12T12:08:12.668180098Z"
    }
   },
   "execution_count": 79
  },
  {
   "cell_type": "code",
   "outputs": [],
   "source": [],
   "metadata": {
    "collapsed": false
   }
  }
 ],
 "metadata": {
  "kernelspec": {
   "display_name": "venv",
   "language": "python",
   "name": "python3"
  },
  "language_info": {
   "codemirror_mode": {
    "name": "ipython",
    "version": 3
   },
   "file_extension": ".py",
   "mimetype": "text/x-python",
   "name": "python",
   "nbconvert_exporter": "python",
   "pygments_lexer": "ipython3",
   "version": "3.11.7"
  }
 },
 "nbformat": 4,
 "nbformat_minor": 2
}
